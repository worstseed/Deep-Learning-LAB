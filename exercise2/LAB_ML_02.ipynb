{
  "nbformat": 4,
  "nbformat_minor": 0,
  "metadata": {
    "colab": {
      "name": "LAB-ML-02.ipynb",
      "version": "0.3.2",
      "provenance": [],
      "collapsed_sections": [
        "IxzLBg9IbGf_",
        "xdzggHfrbMQs",
        "LgKrXhEpbZN7",
        "8zZM9_m5b1-Y",
        "4PzSZdRocjVa",
        "8fw5PTk9jbY7",
        "yWg2mQQej8A8",
        "TZVZWW-vkCPv"
      ]
    },
    "kernelspec": {
      "name": "python3",
      "display_name": "Python 3"
    },
    "accelerator": "GPU"
  },
  "cells": [
    {
      "metadata": {
        "id": "AoiIW79DbBau",
        "colab_type": "text"
      },
      "cell_type": "markdown",
      "source": [
        "# Imports"
      ]
    },
    {
      "metadata": {
        "id": "6K5mdVQsHOfy",
        "colab_type": "code",
        "colab": {
          "base_uri": "https://localhost:8080/",
          "height": 170
        },
        "outputId": "b474b520-6959-4b33-e86c-a53637b1d25b"
      },
      "cell_type": "code",
      "source": [
        "from __future__ import print_function\n",
        "print(\"... print_function imported\")\n",
        "\n",
        "import argparse\n",
        "print(\"... argparse imported\")\n",
        "import gzip\n",
        "print(\"... gzip imported\")\n",
        "import json\n",
        "print(\"... json imported\")\n",
        "import os\n",
        "print(\"... os imported\")\n",
        "import pickle\n",
        "print(\"... pickle imported\")\n",
        "\n",
        "import numpy as np\n",
        "print(\"... numpy imported\")\n",
        "import tensorflow as tf\n",
        "print(\"... tensorflow imported\")\n",
        "import matplotlib.pyplot as plt\n",
        "print(\"... matplotlib imported\")"
      ],
      "execution_count": 1,
      "outputs": [
        {
          "output_type": "stream",
          "text": [
            "... print_function imported\n",
            "... argparse imported\n",
            "... gzip imported\n",
            "... json imported\n",
            "... os imported\n",
            "... pickle imported\n",
            "... numpy imported\n",
            "... tensorflow imported\n",
            "... matplotlib imported\n"
          ],
          "name": "stdout"
        }
      ]
    },
    {
      "metadata": {
        "id": "IxzLBg9IbGf_",
        "colab_type": "text"
      },
      "cell_type": "markdown",
      "source": [
        "# One-hot encoding"
      ]
    },
    {
      "metadata": {
        "id": "-QWRJgY1Hchi",
        "colab_type": "code",
        "colab": {}
      },
      "cell_type": "code",
      "source": [
        "def one_hot(labels):\n",
        "    \"\"\"this creates a one hot encoding from a flat vector:\n",
        "    i.e. given y = [0,2,1]\n",
        "     it creates y_one_hot = [[1,0,0], [0,0,1], [0,1,0]]\n",
        "    \"\"\"\n",
        "    classes = np.unique(labels)\n",
        "    n_classes = classes.size\n",
        "    one_hot_labels = np.zeros(labels.shape + (n_classes,))\n",
        "    for c in classes:\n",
        "        one_hot_labels[labels == c, c] = 1\n",
        "    return one_hot_labels"
      ],
      "execution_count": 0,
      "outputs": []
    },
    {
      "metadata": {
        "id": "xdzggHfrbMQs",
        "colab_type": "text"
      },
      "cell_type": "markdown",
      "source": [
        "# Download MNIST and split the data\n"
      ]
    },
    {
      "metadata": {
        "id": "2oPCZ1RBHgBF",
        "colab_type": "code",
        "colab": {}
      },
      "cell_type": "code",
      "source": [
        "def mnist(datasets_dir = './data'):\n",
        "    if not os.path.exists(datasets_dir):\n",
        "        os.mkdir(datasets_dir)\n",
        "    data_file = os.path.join(datasets_dir, 'mnist.pkl.gz')\n",
        "    if not os.path.exists(data_file):\n",
        "        print('... downloading MNIST from the web')\n",
        "        try:\n",
        "            import urllib\n",
        "            urllib.urlretrieve('http://google.com')\n",
        "        except AttributeError:\n",
        "            import urllib.request as urllib\n",
        "        url = 'http://www.iro.umontreal.ca/~lisa/deep/data/mnist/mnist.pkl.gz'\n",
        "        urllib.urlretrieve(url, data_file)\n",
        "\n",
        "    print('... loading data')\n",
        "    # Load the dataset\n",
        "    f = gzip.open(data_file, 'rb')\n",
        "    try:\n",
        "        train_set, valid_set, test_set = pickle.load(f, encoding=\"latin1\")\n",
        "    except TypeError:\n",
        "        train_set, valid_set, test_set = pickle.load(f)\n",
        "    f.close()\n",
        "\n",
        "    test_x, test_y = test_set\n",
        "    test_x = test_x.astype('float32')\n",
        "    test_x = test_x.astype('float32').reshape(test_x.shape[0], 28, 28, 1)\n",
        "    test_y = test_y.astype('int32')\n",
        "\n",
        "    valid_x, valid_y = valid_set\n",
        "    valid_x = valid_x.astype('float32')\n",
        "    valid_x = valid_x.astype('float32').reshape(valid_x.shape[0], 28, 28, 1)\n",
        "    valid_y = valid_y.astype('int32')\n",
        "\n",
        "    train_x, train_y = train_set\n",
        "    train_x = train_x.astype('float32').reshape(train_x.shape[0], 28, 28, 1)\n",
        "    train_y = train_y.astype('int32')\n",
        "\n",
        "    print('... done loading data')\n",
        "    return train_x, one_hot(train_y), valid_x, one_hot(valid_y), test_x, one_hot(test_y)"
      ],
      "execution_count": 0,
      "outputs": []
    },
    {
      "metadata": {
        "id": "LgKrXhEpbZN7",
        "colab_type": "text"
      },
      "cell_type": "markdown",
      "source": [
        "# LeNet\n",
        "\n",
        "Our CNN consists of two convolutional layers (16 3x3 filters and a stride of 1), each followed by ReLU activation function and a max pooling layer (pool size 2). After the convolution layers we add a fully connected layer with 128 units and a softmax layer for the classification.\n",
        "\n",
        "According to helpful link:\n",
        "https://www.tensorflow.org/tutorials/estimators/cnn"
      ]
    },
    {
      "metadata": {
        "id": "_RjoJ8ArOv2q",
        "colab_type": "code",
        "colab": {}
      },
      "cell_type": "code",
      "source": [
        "def LeNet(x, num_filters, filter_size):\n",
        "\n",
        "    pool_size = [2, 2]\n",
        "    strides = 2\n",
        "\n",
        "    # #1 Convolutional layer\n",
        "    conv1 = tf.layers.conv2d(\n",
        "        inputs = x,\n",
        "        filters = num_filters,\n",
        "        kernel_size = [filter_size, filter_size],\n",
        "        padding = \"same\",\n",
        "        activation = tf.nn.relu)\n",
        "\n",
        "    # #1 Pooling layer\n",
        "    pool1 = tf.layers.max_pooling2d(\n",
        "        inputs = conv1,\n",
        "        pool_size = pool_size,\n",
        "        strides = strides)\n",
        "\n",
        "    # #2 Convolutional layer\n",
        "    conv2 = tf.layers.conv2d(\n",
        "        inputs = pool1,\n",
        "        filters = num_filters,\n",
        "        kernel_size = [filter_size, filter_size],\n",
        "        padding = \"same\",\n",
        "        activation = tf.nn.relu)\n",
        "\n",
        "    # #2 Pooling layer\n",
        "    pool2 = tf.layers.max_pooling2d(\n",
        "        inputs = conv2,\n",
        "        pool_size = pool_size,\n",
        "        strides = strides)\n",
        "\n",
        "    # Flatten it!\n",
        "    pool_flat = tf.contrib.layers.flatten(\n",
        "        pool2,\n",
        "        outputs_collections = None,\n",
        "        scope = None)\n",
        "    \n",
        "    # Dense layer\n",
        "    dense = tf.layers.dense(\n",
        "        inputs = pool_flat,\n",
        "        units = 1024,\n",
        "        activation = tf.nn.relu)\n",
        "\n",
        "    # Logits layer\n",
        "    y_pred = tf.layers.dense(\n",
        "        inputs = dense,\n",
        "        units = 10)\n",
        "    \n",
        "    return y_pred"
      ],
      "execution_count": 0,
      "outputs": []
    },
    {
      "metadata": {
        "id": "8zZM9_m5b1-Y",
        "colab_type": "text"
      },
      "cell_type": "markdown",
      "source": [
        "# Train and validate function\n",
        "\n",
        "According to helpful link:\n",
        "https://chromium.googlesource.com/external/github.com/tensorflow/tensorflow/+/r0.7/tensorflow/g3doc/tutorials/mnist/pros/index.md\n",
        "    \n",
        "\"Here x and y_ aren‘t specific values. Rather, they are each a placeholder -- a value that we’ll input when we ask TensorFlow to run a computation. The input images x will consist of a 2d tensor of floating point numbers. \n",
        "Here we assign it a shape of [None, 784], where 784 is the dimensionality of a single flattened MNIST image, and None indicates that the first dimension, corresponding to the batch size, can be of any size. The target output classes\n",
        "y_ will also consist of a 2d tensor, where each row is a one-hot 10-dimensional vector indicating which digit class the corresponding MNIST image belongs to.\"\n",
        "\n",
        "returns learning_curve, model, validation_accuracy "
      ]
    },
    {
      "metadata": {
        "id": "4Md4DNbVHjBw",
        "colab_type": "code",
        "colab": {}
      },
      "cell_type": "code",
      "source": [
        "def train_and_validate(x_train, y_train, x_valid, y_valid, num_epochs, lr, num_filters, batch_size, filter_size, random_search = False):\n",
        "\n",
        "    print()\n",
        "    count = 0\n",
        "    \n",
        "    x_image = tf.placeholder(tf.float32, [None, 28, 28, 1], name = 'input')\n",
        "    y_ = tf.placeholder(tf.float32, [None, 10], name = 'output')\n",
        "        \n",
        "    # Train and validate your convolutional neural networks with the provided data and hyperparameters\n",
        "    num_samples = x_train.shape[0]\n",
        "    num_batches = num_samples // batch_size\n",
        "\n",
        "    y_pred = LeNet(x_image, num_filters, filter_size)\n",
        "    \n",
        "    cross_entropy = tf.nn.sigmoid_cross_entropy_with_logits(labels = y_, logits = y_pred)\n",
        "    cross_entropy = 100 * tf.reduce_mean(cross_entropy)\n",
        "    \n",
        "    train_step = tf.train.GradientDescentOptimizer(lr).minimize(cross_entropy)\n",
        "    \n",
        "    correct_prediction = tf.equal(tf.argmax(y_pred, 1), tf.argmax(y_, 1))\n",
        "    \n",
        "    if (random_search == False):\n",
        "      saver = tf.train.Saver()\n",
        "    \n",
        "    with tf.Session() as session:\n",
        "      accuracy = tf.reduce_mean(tf.cast(correct_prediction, tf.float32), name = \"accuracy\")\n",
        "      session.run(tf.global_variables_initializer())\n",
        "      \n",
        "      learning_curve  = np.zeros(num_epochs)   \n",
        "\n",
        "      for i in range(num_epochs):\n",
        "        for j in range(num_batches):\n",
        "\n",
        "          x_batch = x_train[j * batch_size:(j + 1) * batch_size]\n",
        "          y_batch = y_train[j * batch_size:(j + 1) * batch_size]\n",
        "\n",
        "          train_step.run(feed_dict = {x_image: x_batch, y_: y_batch})\n",
        "\n",
        "       # train_accuracy = accuracy.eval(feed_dict = {x_image: x_train, y_: y_train})\n",
        "        learning_curve[i] = 1 - accuracy.eval(feed_dict = {x_image: x_valid, y_: y_valid})        \n",
        "        validation_accuracy = accuracy.eval(feed_dict = {x_image: x_valid, y_: y_valid})\n",
        "        print(\"step %d: validation accuracy %.4g%%\" %(i, 100 * validation_accuracy))\n",
        "\n",
        "      \n",
        "      if (random_search == False):\n",
        "        model = saver.save(session, './model/'+ str(count) +'.ckpt')\n",
        "        count += 1\n",
        "        print(\"Model saved in: %s\" % model)\n",
        "      else:\n",
        "        model = None\n",
        "    print()\n",
        "    # Return the validation error after each epoch (i.e learning curve) and model\n",
        "    return learning_curve, model, validation_accuracy "
      ],
      "execution_count": 0,
      "outputs": []
    },
    {
      "metadata": {
        "id": "s8Sn8QFpcKdg",
        "colab_type": "text"
      },
      "cell_type": "markdown",
      "source": [
        "# Test function\n",
        "\n",
        "returns test error"
      ]
    },
    {
      "metadata": {
        "id": "0WA9hoXMHlJp",
        "colab_type": "code",
        "colab": {}
      },
      "cell_type": "code",
      "source": [
        "def test(x_test, y_test, model):\n",
        "  \n",
        "    # test your network here by evaluating it on the test data\n",
        "      tf.reset_default_graph()\n",
        "      graph = tf.get_default_graph()   \n",
        "      \n",
        "      with tf.Session(graph = graph) as session:\n",
        "      \n",
        "        saver = tf.train.import_meta_graph(model + '.meta')\n",
        "        saver.restore(session, model)\n",
        "      \n",
        "        accuracy = graph.get_tensor_by_name(\"accuracy:0\")\n",
        "        x_image = graph.get_tensor_by_name(\"input:0\")\n",
        "        y_ = graph.get_tensor_by_name(\"output:0\")\n",
        "        test_error = 1 - accuracy.eval(feed_dict = {x_image: x_test, y_: y_test})\n",
        "         \n",
        "      return test_error"
      ],
      "execution_count": 0,
      "outputs": []
    },
    {
      "metadata": {
        "id": "4PzSZdRocjVa",
        "colab_type": "text"
      },
      "cell_type": "markdown",
      "source": [
        "# Save results\n",
        "\n",
        "returns results, serialized "
      ]
    },
    {
      "metadata": {
        "id": "gsB_HKMPdMDo",
        "colab_type": "code",
        "colab": {}
      },
      "cell_type": "code",
      "source": [
        "def save_results(lr, num_filters, batch_size, filter_size, learning_curve, test_error, validation_accuracy):\n",
        "\n",
        "  # save results in a dictionary\n",
        "  results = dict()\n",
        "  results[\"lr\"] = lr\n",
        "  results[\"num_filters\"] = num_filters\n",
        "  results[\"batch_size\"] = batch_size\n",
        "  results[\"filter_size\"] = filter_size\n",
        "  results[\"learning_curve\"] = learning_curve\n",
        "  results[\"test_error\"] = test_error\n",
        "    \n",
        "  return results"
      ],
      "execution_count": 0,
      "outputs": []
    },
    {
      "metadata": {
        "id": "-RKgNJSjigiG",
        "colab_type": "text"
      },
      "cell_type": "markdown",
      "source": [
        "# Vanilla version\n",
        "\n",
        "default parameters, traininig, testing & plotting\n"
      ]
    },
    {
      "metadata": {
        "id": "NaFxBD22Hqf8",
        "colab_type": "code",
        "colab": {}
      },
      "cell_type": "code",
      "source": [
        "lr = 1e-3\n",
        "num_filters = 16\n",
        "batch_size = 128\n",
        "epochs = 12\n",
        "filter_size = 3"
      ],
      "execution_count": 0,
      "outputs": []
    },
    {
      "metadata": {
        "id": "aqSxFeFwiWpU",
        "colab_type": "code",
        "colab": {
          "base_uri": "https://localhost:8080/",
          "height": 51
        },
        "outputId": "fc8684ac-3a67-425c-d0c4-ccda61ba3239"
      },
      "cell_type": "code",
      "source": [
        "x_train, y_train, x_valid, y_valid, x_test, y_test = mnist()    "
      ],
      "execution_count": 9,
      "outputs": [
        {
          "output_type": "stream",
          "text": [
            "... loading data\n",
            "... done loading data\n"
          ],
          "name": "stdout"
        }
      ]
    },
    {
      "metadata": {
        "id": "-xDgJZ34M4Kq",
        "colab_type": "code",
        "colab": {
          "base_uri": "https://localhost:8080/",
          "height": 408
        },
        "outputId": "331433f4-4771-46b2-e801-2cab37e3b357"
      },
      "cell_type": "code",
      "source": [
        "# train and test convolutional neural network\n",
        "\n",
        "print(\"... starting training\")\n",
        "learning_curve, model, validation_accuracy = train_and_validate(x_train, y_train, x_valid, y_valid, epochs, lr, num_filters, batch_size, filter_size)\n",
        "print(\"... training and validation finished\")\n",
        "test_error = test(x_test, y_test, model)\n",
        "print(\"... testing finished\")\n",
        "\n",
        "results = save_results(lr, num_filters, batch_size, filter_size, learning_curve, test_error, validation_accuracy)\n",
        "print (\"... checking results\")\n",
        "print(results)\n"
      ],
      "execution_count": 10,
      "outputs": [
        {
          "output_type": "stream",
          "text": [
            "... starting training\n",
            "\n",
            "step 0: validation accuracy 87.85%\n",
            "step 1: validation accuracy 93.08%\n",
            "step 2: validation accuracy 95.08%\n",
            "step 3: validation accuracy 96.04%\n",
            "step 4: validation accuracy 96.57%\n",
            "step 5: validation accuracy 97%\n",
            "step 6: validation accuracy 97.17%\n",
            "step 7: validation accuracy 97.24%\n",
            "step 8: validation accuracy 97.39%\n",
            "step 9: validation accuracy 97.5%\n",
            "step 10: validation accuracy 97.65%\n",
            "step 11: validation accuracy 97.75%\n",
            "Model saved in: ./model/0.ckpt\n",
            "\n",
            "... training and validation finished\n",
            "INFO:tensorflow:Restoring parameters from ./model/0.ckpt\n",
            "... testing finished\n",
            "... checking results\n",
            "{'lr': 0.001, 'num_filters': 16, 'batch_size': 128, 'filter_size': 3, 'learning_curve': array([0.12150002, 0.06919998, 0.0492    , 0.03960001, 0.03430003,\n",
            "       0.02999997, 0.02829999, 0.02759999, 0.02609998, 0.02499998,\n",
            "       0.02350003, 0.02249998]), 'test_error': 0.023299992084503174}\n"
          ],
          "name": "stdout"
        }
      ]
    },
    {
      "metadata": {
        "id": "CjOb-EdhuEZC",
        "colab_type": "code",
        "colab": {
          "base_uri": "https://localhost:8080/",
          "height": 376
        },
        "outputId": "211052a3-d4da-4df9-c217-3b8e9bcf8403"
      },
      "cell_type": "code",
      "source": [
        "plt.plot(range(epochs), learning_curve, label = \"Filter size:\" + str(filter_size))\n",
        "plt.xlabel('epochs')\n",
        "plt.ylabel('learning_curve')\n",
        "plt.title(\"Learning Curve for Filters\")\n",
        "plt.legend(loc='best')\n",
        "\n",
        "plt.show()\n"
      ],
      "execution_count": 11,
      "outputs": [
        {
          "output_type": "display_data",
          "data": {
            "image/png": "[encoded data removed]",
            "text/plain": [
              "<matplotlib.figure.Figure at 0x7f9c2b894240>"
            ]
          },
          "metadata": {
            "tags": []
          }
        }
      ]
    },
    {
      "metadata": {
        "id": "9YJBIbiEjPR4",
        "colab_type": "text"
      },
      "cell_type": "markdown",
      "source": [
        "# Impact of learning rate"
      ]
    },
    {
      "metadata": {
        "id": "ljM78rpxF2ur",
        "colab_type": "code",
        "colab": {
          "base_uri": "https://localhost:8080/",
          "height": 1360
        },
        "outputId": "b6bdd61e-47ff-4aaa-88d6-0cc2523007e0"
      },
      "cell_type": "code",
      "source": [
        "lrs = [0.1, 0.01, 0.001, 0.0001]\n",
        "learning_curve = list()\n",
        "\n",
        "for i in range(len(lrs)):\n",
        "\n",
        "    temp, model, validation_accuracy = train_and_validate(x_train, y_train, x_valid, y_valid, epochs, lrs[i], num_filters, batch_size, filter_size)  \n",
        "    learning_curve.append(temp)\n",
        "\n",
        "    test_error = test(x_test, y_test, model)\n",
        "    \n",
        "    results = save_results(lrs[i], num_filters, batch_size, filter_size, learning_curve[i], test_error.tolist(), validation_accuracy)\n",
        "    print(\"---learning rate == \", lrs[i], \"---\")\n",
        "    print(results)"
      ],
      "execution_count": 12,
      "outputs": [
        {
          "output_type": "stream",
          "text": [
            "\n",
            "step 0: validation accuracy 10.64%\n",
            "step 1: validation accuracy 10.3%\n",
            "step 2: validation accuracy 10.3%\n",
            "step 3: validation accuracy 10.64%\n",
            "step 4: validation accuracy 10.64%\n",
            "step 5: validation accuracy 10.64%\n",
            "step 6: validation accuracy 10.64%\n",
            "step 7: validation accuracy 10.64%\n",
            "step 8: validation accuracy 10.64%\n",
            "step 9: validation accuracy 10.64%\n",
            "step 10: validation accuracy 10.64%\n",
            "step 11: validation accuracy 10.64%\n",
            "Model saved in: ./model/0.ckpt\n",
            "\n",
            "INFO:tensorflow:Restoring parameters from ./model/0.ckpt\n",
            "---learning rate ==  0.1 ---\n",
            "{'lr': 0.1, 'num_filters': 16, 'batch_size': 128, 'filter_size': 3, 'learning_curve': array([0.8936, 0.897 , 0.897 , 0.8936, 0.8936, 0.8936, 0.8936, 0.8936,\n",
            "       0.8936, 0.8936, 0.8936, 0.8936]), 'test_error': 0.9218000024557114}\n",
            "\n",
            "step 0: validation accuracy 97.18%\n",
            "step 1: validation accuracy 97.91%\n",
            "step 2: validation accuracy 98.33%\n",
            "step 3: validation accuracy 98.56%\n",
            "step 4: validation accuracy 98.69%\n",
            "step 5: validation accuracy 98.83%\n",
            "step 6: validation accuracy 98.89%\n",
            "step 7: validation accuracy 99%\n",
            "step 8: validation accuracy 99.07%\n",
            "step 9: validation accuracy 99.12%\n",
            "step 10: validation accuracy 99.06%\n",
            "step 11: validation accuracy 99.07%\n",
            "Model saved in: ./model/0.ckpt\n",
            "\n",
            "INFO:tensorflow:Restoring parameters from ./model/0.ckpt\n",
            "---learning rate ==  0.01 ---\n",
            "{'lr': 0.01, 'num_filters': 16, 'batch_size': 128, 'filter_size': 3, 'learning_curve': array([0.02819997, 0.02090001, 0.01670003, 0.01440001, 0.01310003,\n",
            "       0.01169997, 0.01109999, 0.00999999, 0.00929999, 0.00880003,\n",
            "       0.00940001, 0.00929999]), 'test_error': 0.9187999963760376}\n",
            "\n",
            "step 0: validation accuracy 87.99%\n",
            "step 1: validation accuracy 92.57%\n",
            "step 2: validation accuracy 94.45%\n",
            "step 3: validation accuracy 95.08%\n",
            "step 4: validation accuracy 95.49%\n",
            "step 5: validation accuracy 95.83%\n",
            "step 6: validation accuracy 96.05%\n",
            "step 7: validation accuracy 96.38%\n",
            "step 8: validation accuracy 96.63%\n",
            "step 9: validation accuracy 96.8%\n",
            "step 10: validation accuracy 96.9%\n",
            "step 11: validation accuracy 97.19%\n",
            "Model saved in: ./model/0.ckpt\n",
            "\n",
            "INFO:tensorflow:Restoring parameters from ./model/0.ckpt\n",
            "---learning rate ==  0.001 ---\n",
            "{'lr': 0.001, 'num_filters': 16, 'batch_size': 128, 'filter_size': 3, 'learning_curve': array([0.12010002, 0.07429999, 0.05549997, 0.0492    , 0.04509997,\n",
            "       0.04170001, 0.0395    , 0.03619999, 0.03369999, 0.03200001,\n",
            "       0.03100002, 0.02810001]), 'test_error': 0.8517999947071075}\n",
            "\n",
            "step 0: validation accuracy 54.39%\n",
            "step 1: validation accuracy 70.76%\n",
            "step 2: validation accuracy 78.62%\n",
            "step 3: validation accuracy 83.2%\n",
            "step 4: validation accuracy 85.94%\n",
            "step 5: validation accuracy 87.8%\n",
            "step 6: validation accuracy 88.9%\n",
            "step 7: validation accuracy 89.63%\n",
            "step 8: validation accuracy 90.19%\n",
            "step 9: validation accuracy 90.68%\n",
            "step 10: validation accuracy 91.08%\n",
            "step 11: validation accuracy 91.39%\n",
            "Model saved in: ./model/0.ckpt\n",
            "\n",
            "INFO:tensorflow:Restoring parameters from ./model/0.ckpt\n",
            "---learning rate ==  0.0001 ---\n",
            "{'lr': 0.0001, 'num_filters': 16, 'batch_size': 128, 'filter_size': 3, 'learning_curve': array([0.45609999, 0.2924    , 0.21380001, 0.16799998, 0.14060003,\n",
            "       0.12199998, 0.111     , 0.10369998, 0.09810001, 0.09320003,\n",
            "       0.08920002, 0.08609998]), 'test_error': 0.901699997484684}\n"
          ],
          "name": "stdout"
        }
      ]
    },
    {
      "metadata": {
        "id": "HX7QWkkPuRaQ",
        "colab_type": "code",
        "colab": {
          "base_uri": "https://localhost:8080/",
          "height": 376
        },
        "outputId": "913018cd-5e12-4751-c675-8a2272dae9d5"
      },
      "cell_type": "code",
      "source": [
        "for i in range(len(lrs)):\n",
        "    learning_rate = lrs[i]\n",
        "    plt.plot(range(epochs), learning_curve[i], label = \"Learning rate:\" + str(learning_rate))\n",
        "    plt.xlabel('Epochs')\n",
        "    plt.ylabel('Learning Curve')\n",
        "    plt.title(\"Learning Curve - Learning Rates\")\n",
        "    plt.legend(loc = 'best')\n",
        "\n",
        "plt.show()"
      ],
      "execution_count": 13,
      "outputs": [
        {
          "output_type": "display_data",
          "data": {
            "image/png": "[encoded data removed]",
            "text/plain": [
              "<matplotlib.figure.Figure at 0x7f9c2019bd30>"
            ]
          },
          "metadata": {
            "tags": []
          }
        }
      ]
    },
    {
      "metadata": {
        "id": "8fw5PTk9jbY7",
        "colab_type": "text"
      },
      "cell_type": "markdown",
      "source": [
        "# Impact of number of filters"
      ]
    },
    {
      "metadata": {
        "id": "QvrgjuytLxXY",
        "colab_type": "code",
        "colab": {
          "base_uri": "https://localhost:8080/",
          "height": 1377
        },
        "outputId": "d8c76610-caf4-4483-9a0c-7e2e75634f53"
      },
      "cell_type": "code",
      "source": [
        "filters = [1, 3, 5, 7]\n",
        "learning_curve = list()\n",
        "\n",
        "for i in range(len(filters)):\n",
        "\n",
        "    temp, model, validation_accuracy = train_and_validate(x_train, y_train, x_valid, y_valid, epochs, lr, num_filters, batch_size, filters[i])\n",
        "    learning_curve.append(temp)\n",
        "      \n",
        "    test_error = test(x_test, y_test, model)\n",
        "\n",
        "    results = save_results(lr, filters[i], batch_size, filter_size, learning_curve[i], test_error.tolist(), validation_accuracy)\n",
        "    print(\"---filters == \", filters[i], \"---\")\n",
        "    print(results)"
      ],
      "execution_count": 14,
      "outputs": [
        {
          "output_type": "stream",
          "text": [
            "\n",
            "step 0: validation accuracy 80.14%\n",
            "step 1: validation accuracy 83.4%\n",
            "step 2: validation accuracy 84.86%\n",
            "step 3: validation accuracy 86.06%\n",
            "step 4: validation accuracy 87.09%\n",
            "step 5: validation accuracy 88.01%\n",
            "step 6: validation accuracy 88.58%\n",
            "step 7: validation accuracy 88.89%\n",
            "step 8: validation accuracy 89.17%\n",
            "step 9: validation accuracy 89.47%\n",
            "step 10: validation accuracy 89.79%\n",
            "step 11: validation accuracy 90.06%\n",
            "Model saved in: ./model/0.ckpt\n",
            "\n",
            "INFO:tensorflow:Restoring parameters from ./model/0.ckpt\n",
            "---filters ==  1 ---\n",
            "{'lr': 0.001, 'num_filters': 1, 'batch_size': 128, 'filter_size': 3, 'learning_curve': array([0.19859999, 0.16600001, 0.15140003, 0.13940001, 0.12910002,\n",
            "       0.11989999, 0.1142    , 0.11110002, 0.10829997, 0.10530001,\n",
            "       0.10210001, 0.09939998]), 'test_error': 0.9143000021576881}\n",
            "\n",
            "step 0: validation accuracy 86.46%\n",
            "step 1: validation accuracy 91.87%\n",
            "step 2: validation accuracy 94.09%\n",
            "step 3: validation accuracy 95.12%\n",
            "step 4: validation accuracy 95.7%\n",
            "step 5: validation accuracy 96.22%\n",
            "step 6: validation accuracy 96.75%\n",
            "step 7: validation accuracy 96.97%\n",
            "step 8: validation accuracy 97.14%\n",
            "step 9: validation accuracy 97.25%\n",
            "step 10: validation accuracy 97.39%\n",
            "step 11: validation accuracy 97.52%\n",
            "Model saved in: ./model/0.ckpt\n",
            "\n",
            "INFO:tensorflow:Restoring parameters from ./model/0.ckpt\n",
            "---filters ==  3 ---\n",
            "{'lr': 0.001, 'num_filters': 3, 'batch_size': 128, 'filter_size': 3, 'learning_curve': array([0.1354    , 0.08130002, 0.05909997, 0.04879999, 0.04299998,\n",
            "       0.03780001, 0.03250003, 0.03030002, 0.02859998, 0.02749997,\n",
            "       0.02609998, 0.0248    ]), 'test_error': 0.9202999994158745}\n",
            "\n",
            "step 0: validation accuracy 90.62%\n",
            "step 1: validation accuracy 94.75%\n",
            "step 2: validation accuracy 95.89%\n",
            "step 3: validation accuracy 96.57%\n",
            "step 4: validation accuracy 97.06%\n",
            "step 5: validation accuracy 97.39%\n",
            "step 6: validation accuracy 97.62%\n",
            "step 7: validation accuracy 97.71%\n",
            "step 8: validation accuracy 97.79%\n",
            "step 9: validation accuracy 97.96%\n",
            "step 10: validation accuracy 98.08%\n",
            "step 11: validation accuracy 98.15%\n",
            "Model saved in: ./model/0.ckpt\n",
            "\n",
            "INFO:tensorflow:Restoring parameters from ./model/0.ckpt\n",
            "---filters ==  5 ---\n",
            "{'lr': 0.001, 'num_filters': 5, 'batch_size': 128, 'filter_size': 3, 'learning_curve': array([0.09380001, 0.05250001, 0.04110003, 0.03430003, 0.02939999,\n",
            "       0.02609998, 0.02380002, 0.02289999, 0.02209997, 0.02039999,\n",
            "       0.01920003, 0.01849997]), 'test_error': 0.9257000014185905}\n",
            "\n",
            "step 0: validation accuracy 90.29%\n",
            "step 1: validation accuracy 94.14%\n",
            "step 2: validation accuracy 95.36%\n",
            "step 3: validation accuracy 96.25%\n",
            "step 4: validation accuracy 96.87%\n",
            "step 5: validation accuracy 97.18%\n",
            "step 6: validation accuracy 97.42%\n",
            "step 7: validation accuracy 97.64%\n",
            "step 8: validation accuracy 97.78%\n",
            "step 9: validation accuracy 97.88%\n",
            "step 10: validation accuracy 97.97%\n",
            "step 11: validation accuracy 98.04%\n",
            "Model saved in: ./model/0.ckpt\n",
            "\n",
            "INFO:tensorflow:Restoring parameters from ./model/0.ckpt\n",
            "---filters ==  7 ---\n",
            "{'lr': 0.001, 'num_filters': 7, 'batch_size': 128, 'filter_size': 3, 'learning_curve': array([0.09710002, 0.05860001, 0.04640001, 0.03750002, 0.03130001,\n",
            "       0.02819997, 0.02579999, 0.02359998, 0.02219999, 0.0212    ,\n",
            "       0.02029997, 0.01959997]), 'test_error': 0.9116000011563301}\n"
          ],
          "name": "stdout"
        }
      ]
    },
    {
      "metadata": {
        "id": "JO2R7jtPupl0",
        "colab_type": "code",
        "colab": {
          "base_uri": "https://localhost:8080/",
          "height": 376
        },
        "outputId": "1a3c49a1-b559-4206-cf78-df3f4283c235"
      },
      "cell_type": "code",
      "source": [
        "for i in range(len(filters)):\n",
        "    filter_size = filters[i]\n",
        "    plt.plot(range(epochs), learning_curve[i], label = \"Filter size:\" + str(filter_size))\n",
        "    plt.xlabel('Epochs')\n",
        "    plt.ylabel('Learning Curve')\n",
        "    plt.title(\"Learning Curve - Filters\")\n",
        "    plt.legend(loc = 'best')\n",
        "\n",
        "plt.show()"
      ],
      "execution_count": 15,
      "outputs": [
        {
          "output_type": "display_data",
          "data": {
            "image/png": "[encoded data removed]",
            "text/plain": [
              "<matplotlib.figure.Figure at 0x7f9c24c56080>"
            ]
          },
          "metadata": {
            "tags": []
          }
        }
      ]
    },
    {
      "metadata": {
        "id": "fBCR5bBbjh-z",
        "colab_type": "text"
      },
      "cell_type": "markdown",
      "source": [
        "# Imports for random search"
      ]
    },
    {
      "metadata": {
        "id": "L34eB0xwR2TX",
        "colab_type": "code",
        "colab": {
          "base_uri": "https://localhost:8080/",
          "height": 289
        },
        "outputId": "71d206cc-a0d7-462a-8b4d-b473b63a31ea"
      },
      "cell_type": "code",
      "source": [
        "!pip install hpbandster"
      ],
      "execution_count": 16,
      "outputs": [
        {
          "output_type": "stream",
          "text": [
            "Requirement already satisfied: hpbandster in /usr/local/lib/python3.6/dist-packages (0.7.4)\n",
            "Requirement already satisfied: netifaces in /usr/local/lib/python3.6/dist-packages (from hpbandster) (0.10.7)\n",
            "Requirement already satisfied: scipy in /usr/local/lib/python3.6/dist-packages (from hpbandster) (1.1.0)\n",
            "Requirement already satisfied: statsmodels in /usr/local/lib/python3.6/dist-packages (from hpbandster) (0.8.0)\n",
            "Requirement already satisfied: ConfigSpace in /usr/local/lib/python3.6/dist-packages (from hpbandster) (0.4.7)\n",
            "Requirement already satisfied: numpy in /usr/local/lib/python3.6/dist-packages (from hpbandster) (1.14.6)\n",
            "Requirement already satisfied: Pyro4 in /usr/local/lib/python3.6/dist-packages (from hpbandster) (4.74)\n",
            "Requirement already satisfied: serpent in /usr/local/lib/python3.6/dist-packages (from hpbandster) (1.27)\n",
            "Requirement already satisfied: pandas in /usr/local/lib/python3.6/dist-packages (from statsmodels->hpbandster) (0.22.0)\n",
            "Requirement already satisfied: patsy in /usr/local/lib/python3.6/dist-packages (from statsmodels->hpbandster) (0.5.1)\n",
            "Requirement already satisfied: Cython in /usr/local/lib/python3.6/dist-packages (from ConfigSpace->hpbandster) (0.29)\n",
            "Requirement already satisfied: typing in /usr/local/lib/python3.6/dist-packages (from ConfigSpace->hpbandster) (3.6.6)\n",
            "Requirement already satisfied: pyparsing in /usr/local/lib/python3.6/dist-packages (from ConfigSpace->hpbandster) (2.3.0)\n",
            "Requirement already satisfied: python-dateutil>=2 in /usr/local/lib/python3.6/dist-packages (from pandas->statsmodels->hpbandster) (2.5.3)\n",
            "Requirement already satisfied: pytz>=2011k in /usr/local/lib/python3.6/dist-packages (from pandas->statsmodels->hpbandster) (2018.7)\n",
            "Requirement already satisfied: six in /usr/local/lib/python3.6/dist-packages (from patsy->statsmodels->hpbandster) (1.11.0)\n"
          ],
          "name": "stdout"
        }
      ]
    },
    {
      "metadata": {
        "id": "gos683_EMJtM",
        "colab_type": "code",
        "colab": {
          "base_uri": "https://localhost:8080/",
          "height": 71
        },
        "outputId": "b22f7132-e99f-48af-e541-b6875bb41e3b"
      },
      "cell_type": "code",
      "source": [
        "import logging\n",
        "logging.basicConfig(level = logging.WARNING)\n",
        "\n",
        "import hpbandster.core.nameserver as hpns\n",
        "from hpbandster.optimizers import RandomSearch\n",
        "from hpbandster.core.worker import Worker\n",
        "import hpbandster.visualization as hpvis\n",
        "\n",
        "import ConfigSpace as CS\n",
        "import ConfigSpace.hyperparameters as CSH"
      ],
      "execution_count": 17,
      "outputs": [
        {
          "output_type": "stream",
          "text": [
            "/usr/local/lib/python3.6/dist-packages/statsmodels/compat/pandas.py:56: FutureWarning: The pandas.core.datetools module is deprecated and will be removed in a future version. Please use the pandas.tseries module instead.\n",
            "  from pandas.core import datetools\n"
          ],
          "name": "stderr"
        }
      ]
    },
    {
      "metadata": {
        "id": "yWg2mQQej8A8",
        "colab_type": "text"
      },
      "cell_type": "markdown",
      "source": [
        "# Random search"
      ]
    },
    {
      "metadata": {
        "id": "xcxgMQh6T_Im",
        "colab_type": "code",
        "colab": {
          "base_uri": "https://localhost:8080/",
          "height": 3487
        },
        "outputId": "edea765d-8c91-4a2f-bdfc-23347b2f5638"
      },
      "cell_type": "code",
      "source": [
        "class MyWorker(Worker):\n",
        "\n",
        "    def __init__(self, *args, **kwargs):\n",
        "        super().__init__(*args, **kwargs)\n",
        "        self.x_train, self.y_train, self.x_valid, self.y_valid, self.x_test, self.y_test = mnist(\"./\")\n",
        "\n",
        "    def compute(self, config, budget, **kwargs):\n",
        "        \"\"\"\n",
        "        Evaluates the configuration on the defined budget and returns the validation performance.\n",
        "        Args:\n",
        "            config: dictionary containing the sampled configurations by the optimizer\n",
        "            budget: (float) amount of time/epochs/etc. the model can use to train\n",
        "        Returns:\n",
        "            dictionary with mandatory fields:\n",
        "                'loss' (scalar)\n",
        "                'info' (dict)\n",
        "        \"\"\"\n",
        "\n",
        "        epochs = budget\n",
        "        \n",
        "        # train and validate your convolutional neural networks here\n",
        "        learning_curve, model, validation_accuracy = train_and_validate(x_train, y_train,\n",
        "                                                                     x_valid, y_valid,\n",
        "                                                                     epochs, \n",
        "                                                                     lr,\n",
        "                                                                     num_filters,\n",
        "                                                                     batch_size,\n",
        "                                                                     filter_size,\n",
        "                                                                     random_search = True)\n",
        "        print()\n",
        "        # We minimize so make sure you return the validation error here\n",
        "        return ({\n",
        "            'loss': 1 - validation_accuracy,  # this is the a mandatory field to run hyperband\n",
        "            'info': {}  # can be used for any user-defined information - also mandatory\n",
        "        })\n",
        "\n",
        "    @staticmethod\n",
        "    def get_configspace():\n",
        "        config_space = CS.ConfigurationSpace()\n",
        "\n",
        "        # Implement configuration space here. See https://github.com/automl/HpBandSter/blob/master/hpbandster/examples/example_5_keras_worker.py  for an example\n",
        "        lr = CSH.UniformFloatHyperparameter('learning_rate', lower = 1e-4, upper = 1e-1, default_value = '1e-2', log = True)\n",
        "        batch_size = CSH.UniformIntegerHyperparameter('batch_size', lower = 16, upper = 128, default_value = 64, log = True)\n",
        "        num_filters = CSH.UniformIntegerHyperparameter('num_filters', lower = 8, upper = 64, default_value = 16, log = True)        \n",
        "        filter_size = CSH.CategoricalHyperparameter('filter_size', [3, 5])\n",
        "        config_space.add_hyperparameters([lr, batch_size, num_filters, filter_size])\n",
        "\n",
        "        return config_space\n",
        "\n",
        "      \n",
        "budget = 6\n",
        "n_iterations = 20\n",
        "\n",
        "# Step 1: Start a nameserver\n",
        "# Every run needs a nameserver. It could be a 'static' server with a\n",
        "# permanent address, but here it will be started for the local machine with the default port.\n",
        "# The nameserver manages the concurrent running workers across all possible threads or clusternodes.\n",
        "# Note the run_id argument. This uniquely identifies a run of any HpBandSter optimizer.\n",
        "NS = hpns.NameServer(run_id = 'example1', host = '127.0.0.1', port = None)\n",
        "NS.start()\n",
        "\n",
        "# Step 2: Start a worker\n",
        "# Now we can instantiate a worker, providing the mandatory information\n",
        "# Besides the sleep_interval, we need to define the nameserver information and\n",
        "# the same run_id as above. After that, we can start the worker in the background,\n",
        "# where it will wait for incoming configurations to evaluate.\n",
        "w = MyWorker(nameserver = '127.0.0.1', run_id = 'example1')\n",
        "w.run(background = True)\n",
        "\n",
        "# Step 3: Run an optimizer\n",
        "# Now we can create an optimizer object and start the run.\n",
        "# Here, we run RandomSearch, but that is not essential.\n",
        "# The run method will return the `Result` that contains all runs performed.\n",
        "\n",
        "rs = RandomSearch(configspace = w.get_configspace(),\n",
        "                  run_id = 'example1', nameserver = '127.0.0.1',\n",
        "                  min_budget = int(budget), max_budget = int(budget))\n",
        "res = rs.run(n_iterations = n_iterations)\n",
        "\n",
        "# Step 4: Shutdown\n",
        "# After the optimizer run, we must shutdown the master and the nameserver.\n",
        "rs.shutdown(shutdown_workers = True)\n",
        "NS.shutdown()\n",
        "\n",
        "# Step 5: Analysis\n",
        "# Each optimizer returns a hpbandster.core.result.Result object.\n",
        "# It holds information about the optimization run like the incumbent (=best) configuration.\n",
        "# For further details about the Result object, see its documentation.\n",
        "# Here we simply print out the best config and some statistics about the performed runs.\n",
        "\n",
        "id2config = res.get_id2config_mapping()\n",
        "incumbent = res.get_incumbent_id()\n",
        "\n",
        "print('Best found configuration:', id2config[incumbent]['config'])\n",
        "\n",
        "# Plots the performance of the best found validation error over time\n",
        "all_runs = res.get_all_runs()\n",
        "# Let's plot the observed losses grouped by budget,\n",
        "import hpbandster.visualization as hpvis\n",
        "\n",
        "hpvis.losses_over_time(all_runs)\n",
        "\n",
        "plt.savefig(\"random_search.png\")"
      ],
      "execution_count": 18,
      "outputs": [
        {
          "output_type": "stream",
          "text": [
            "... loading data\n",
            "... done loading data\n",
            "\n",
            "step 0: validation accuracy 91.75%\n",
            "step 1: validation accuracy 95.14%\n",
            "step 2: validation accuracy 96.2%\n",
            "step 3: validation accuracy 96.8%\n",
            "step 4: validation accuracy 97.23%\n",
            "step 5: validation accuracy 97.48%\n",
            "\n",
            "\n",
            "\n",
            "step 0: validation accuracy 89.87%\n",
            "step 1: validation accuracy 94.63%\n",
            "step 2: validation accuracy 95.88%\n",
            "step 3: validation accuracy 96.54%\n",
            "step 4: validation accuracy 97.01%\n",
            "step 5: validation accuracy 97.37%\n",
            "\n",
            "\n",
            "\n",
            "step 0: validation accuracy 90.85%\n",
            "step 1: validation accuracy 94.63%\n",
            "step 2: validation accuracy 96%\n",
            "step 3: validation accuracy 96.77%\n",
            "step 4: validation accuracy 97.08%\n",
            "step 5: validation accuracy 97.35%\n",
            "\n",
            "\n",
            "\n",
            "step 0: validation accuracy 89.5%\n",
            "step 1: validation accuracy 93.89%\n",
            "step 2: validation accuracy 95.51%\n",
            "step 3: validation accuracy 96.42%\n",
            "step 4: validation accuracy 96.91%\n",
            "step 5: validation accuracy 97.39%\n",
            "\n",
            "\n",
            "\n",
            "step 0: validation accuracy 90.96%\n",
            "step 1: validation accuracy 94.62%\n",
            "step 2: validation accuracy 95.76%\n",
            "step 3: validation accuracy 96.5%\n",
            "step 4: validation accuracy 96.97%\n",
            "step 5: validation accuracy 97.23%\n",
            "\n",
            "\n",
            "\n",
            "step 0: validation accuracy 90.41%\n",
            "step 1: validation accuracy 94.06%\n",
            "step 2: validation accuracy 95.26%\n",
            "step 3: validation accuracy 96.05%\n",
            "step 4: validation accuracy 96.63%\n",
            "step 5: validation accuracy 97.04%\n",
            "\n",
            "\n",
            "\n",
            "step 0: validation accuracy 90.1%\n",
            "step 1: validation accuracy 94.46%\n",
            "step 2: validation accuracy 95.53%\n",
            "step 3: validation accuracy 96.32%\n",
            "step 4: validation accuracy 96.79%\n",
            "step 5: validation accuracy 97.07%\n",
            "\n",
            "\n",
            "\n",
            "step 0: validation accuracy 90.5%\n",
            "step 1: validation accuracy 94.42%\n",
            "step 2: validation accuracy 95.85%\n",
            "step 3: validation accuracy 96.61%\n",
            "step 4: validation accuracy 97.23%\n",
            "step 5: validation accuracy 97.49%\n",
            "\n",
            "\n",
            "\n",
            "step 0: validation accuracy 89.54%\n",
            "step 1: validation accuracy 94.22%\n",
            "step 2: validation accuracy 95.5%\n",
            "step 3: validation accuracy 96.29%\n",
            "step 4: validation accuracy 96.81%\n",
            "step 5: validation accuracy 97.26%\n",
            "\n",
            "\n",
            "\n",
            "step 0: validation accuracy 91.12%\n",
            "step 1: validation accuracy 94.75%\n",
            "step 2: validation accuracy 95.85%\n",
            "step 3: validation accuracy 96.5%\n",
            "step 4: validation accuracy 96.98%\n",
            "step 5: validation accuracy 97.21%\n",
            "\n",
            "\n",
            "\n",
            "step 0: validation accuracy 90.09%\n",
            "step 1: validation accuracy 94.63%\n",
            "step 2: validation accuracy 95.85%\n",
            "step 3: validation accuracy 96.85%\n",
            "step 4: validation accuracy 97.19%\n",
            "step 5: validation accuracy 97.42%\n",
            "\n",
            "\n",
            "\n",
            "step 0: validation accuracy 90.73%\n",
            "step 1: validation accuracy 94.76%\n",
            "step 2: validation accuracy 95.98%\n",
            "step 3: validation accuracy 96.51%\n",
            "step 4: validation accuracy 97.01%\n",
            "step 5: validation accuracy 97.43%\n",
            "\n",
            "\n",
            "\n",
            "step 0: validation accuracy 90.84%\n",
            "step 1: validation accuracy 94.66%\n",
            "step 2: validation accuracy 95.94%\n",
            "step 3: validation accuracy 96.67%\n",
            "step 4: validation accuracy 97.01%\n",
            "step 5: validation accuracy 97.37%\n",
            "\n",
            "\n",
            "\n",
            "step 0: validation accuracy 90.49%\n",
            "step 1: validation accuracy 94.43%\n",
            "step 2: validation accuracy 95.53%\n",
            "step 3: validation accuracy 96.24%\n",
            "step 4: validation accuracy 96.75%\n",
            "step 5: validation accuracy 97.13%\n",
            "\n",
            "\n",
            "\n",
            "step 0: validation accuracy 90.22%\n",
            "step 1: validation accuracy 94.34%\n",
            "step 2: validation accuracy 95.72%\n",
            "step 3: validation accuracy 96.4%\n",
            "step 4: validation accuracy 97%\n",
            "step 5: validation accuracy 97.37%\n",
            "\n",
            "\n",
            "\n",
            "step 0: validation accuracy 91.18%\n",
            "step 1: validation accuracy 94.71%\n",
            "step 2: validation accuracy 95.98%\n",
            "step 3: validation accuracy 96.62%\n",
            "step 4: validation accuracy 97.16%\n",
            "step 5: validation accuracy 97.48%\n",
            "\n",
            "\n",
            "\n",
            "step 0: validation accuracy 90.8%\n",
            "step 1: validation accuracy 94.73%\n",
            "step 2: validation accuracy 95.93%\n",
            "step 3: validation accuracy 96.77%\n",
            "step 4: validation accuracy 97.25%\n",
            "step 5: validation accuracy 97.46%\n",
            "\n",
            "\n",
            "\n",
            "step 0: validation accuracy 91.02%\n",
            "step 1: validation accuracy 94.84%\n",
            "step 2: validation accuracy 96.07%\n",
            "step 3: validation accuracy 96.72%\n",
            "step 4: validation accuracy 97.21%\n",
            "step 5: validation accuracy 97.46%\n",
            "\n",
            "\n",
            "\n",
            "step 0: validation accuracy 91.05%\n",
            "step 1: validation accuracy 95%\n",
            "step 2: validation accuracy 96.17%\n",
            "step 3: validation accuracy 96.95%\n",
            "step 4: validation accuracy 97.32%\n",
            "step 5: validation accuracy 97.6%\n",
            "\n",
            "\n",
            "\n",
            "step 0: validation accuracy 90.44%\n",
            "step 1: validation accuracy 94.97%\n",
            "step 2: validation accuracy 96.44%\n",
            "step 3: validation accuracy 97.15%\n",
            "step 4: validation accuracy 97.44%\n",
            "step 5: validation accuracy 97.74%\n",
            "\n",
            "\n",
            "Best found configuration: {'batch_size': 86, 'filter_size': 5, 'learning_rate': 0.05941926979009937, 'num_filters': 14}\n"
          ],
          "name": "stdout"
        },
        {
          "output_type": "display_data",
          "data": {
            "image/png": "[encoded data removed]",
            "text/plain": [
              "<matplotlib.figure.Figure at 0x7f9c0ad302b0>"
            ]
          },
          "metadata": {
            "tags": []
          }
        }
      ]
    },
    {
      "metadata": {
        "id": "TZVZWW-vkCPv",
        "colab_type": "text"
      },
      "cell_type": "markdown",
      "source": [
        "# Best configuration"
      ]
    },
    {
      "metadata": {
        "id": "MSdwb1kGZo2L",
        "colab_type": "code",
        "colab": {}
      },
      "cell_type": "code",
      "source": [
        "best_configuration = id2config[incumbent]['config']\n",
        "\n",
        "batch_size = best_configuration['batch_size']\n",
        "filter_size = best_configuration['filter_size']\n",
        "learning_rate = best_configuration['learning_rate']\n",
        "num_filters = best_configuration['num_filters']"
      ],
      "execution_count": 0,
      "outputs": []
    },
    {
      "metadata": {
        "id": "qgJ4t_5caVZG",
        "colab_type": "code",
        "colab": {
          "base_uri": "https://localhost:8080/",
          "height": 272
        },
        "outputId": "21f12de6-5b40-48af-d297-d86af1166290"
      },
      "cell_type": "code",
      "source": [
        "# retrain the best configuration (called incumbent) and compute the test error\n",
        "\n",
        "learning_curve, model, validation_accuracy = train_and_validate(x_train, y_train,\n",
        "                                                                     x_valid, y_valid,\n",
        "                                                                     epochs, \n",
        "                                                                     lr,\n",
        "                                                                     num_filters,\n",
        "                                                                     batch_size,\n",
        "                                                                     filter_size)"
      ],
      "execution_count": 20,
      "outputs": [
        {
          "output_type": "stream",
          "text": [
            "\n",
            "step 0: validation accuracy 91.83%\n",
            "step 1: validation accuracy 94.88%\n",
            "step 2: validation accuracy 95.9%\n",
            "step 3: validation accuracy 96.58%\n",
            "step 4: validation accuracy 96.98%\n",
            "step 5: validation accuracy 97.3%\n",
            "step 6: validation accuracy 97.5%\n",
            "step 7: validation accuracy 97.56%\n",
            "step 8: validation accuracy 97.7%\n",
            "step 9: validation accuracy 97.79%\n",
            "step 10: validation accuracy 97.93%\n",
            "step 11: validation accuracy 97.98%\n",
            "Model saved in: ./model/0.ckpt\n",
            "\n"
          ],
          "name": "stdout"
        }
      ]
    },
    {
      "metadata": {
        "id": "vYg7ZEtBYfnN",
        "colab_type": "code",
        "colab": {
          "base_uri": "https://localhost:8080/",
          "height": 376
        },
        "outputId": "517e890a-fcd6-4315-dc0a-1cfa1d8fa532"
      },
      "cell_type": "code",
      "source": [
        "plt.plot(range(epochs), learning_curve)\n",
        "plt.xlabel('Epochs')\n",
        "plt.ylabel('Learning Curve')\n",
        "plt.title(\"Learning Curve - Best Configuration\")\n",
        "plt.show()"
      ],
      "execution_count": 21,
      "outputs": [
        {
          "output_type": "display_data",
          "data": {
            "image/png": "[encoded data removed]",
            "text/plain": [
              "<matplotlib.figure.Figure at 0x7f9c0b827550>"
            ]
          },
          "metadata": {
            "tags": []
          }
        }
      ]
    }
  ]
}